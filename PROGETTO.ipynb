{
 "cells": [
  {
   "cell_type": "markdown",
   "id": "55f7a66e-6fb0-4cd6-9390-db32341a7b32",
   "metadata": {},
   "source": [
    "## Elaborato - Algoritmi di ottimizzazione combinatoria e su Rete \n",
    "- Boccarossa Antonio M63001655\n",
    "- Brunello Francesco\n",
    "- Pisani Luca\n"
   ]
  },
  {
   "cell_type": "markdown",
   "id": "ed02f3db-fc66-46a0-9ed4-6dd30e1fae72",
   "metadata": {},
   "source": [
    "## Flying Sidekick Traveling Salesman Problem"
   ]
  },
  {
   "cell_type": "markdown",
   "id": "ff3d6891-661a-4727-acfe-31a158d17e45",
   "metadata": {},
   "source": [
    "### Presentazione del Problema"
   ]
  },
  {
   "cell_type": "markdown",
   "id": "0a588f2c-d259-431c-b034-ef17c3dd5883",
   "metadata": {},
   "source": [
    "Il problema del commesso viaggiatore con droni (FS-TSP) è una variante del classico problema del commesso viaggiatore (TSP) che integra l'uso di droni per migliorare l'efficienza delle consegne. Invece di visitare tutti i clienti solo con un camion, come nel TSP tradizionale, l'FS-TSP prevede l'utilizzo di un drone come \"spalla\" per efficientare la consegna dei prodotti. \n",
    "\n",
    "**In sostanza, il problema si articola in questo modo:**\n",
    "1. Un camion e un drone partono da un deposito centrale ('s') per consegnare merci a un insieme di clienti.\n",
    "2. Il camion può effettuare consegne autonomamente o lanciare il drone da una posizione per servire un cliente.\n",
    "3. Il drone ha un'autonomia limitata e deve tornare al camion per ricaricarsi o per essere recuperato.\n",
    "4. L'obiettivo è determinare il percorso ottimale per il camion e il drone in modo da minimizzare il tempo totale di consegna per servire tutti i clienti e tornare al deposito. Inoltre, nel nostro caso, il deposito di ritorno darà indicato come 't', come nodo terminazione.\n",
    "\n",
    "**I veicoli hanno le seguenti proprietà:**\n",
    "\n",
    "*Camion*: Veicolo principale con autonomia illimitata. \n",
    "*Drone*: Veicolo di supporto con autonomia limitata e capacità di carico che si limita a un singolo pacco. \n",
    "*Tempo di percorrenza*: Tempo impiegato dal camion o dal drone per spostarsi tra due punti.\n",
    "*Tempo di lancio (SL) e di recupero (SR):* Tempo impiegato per lanciare e recuperare il drone dal camion.\n",
    "\n",
    "\n",
    "#### Complessità del problema\n",
    "L'FS-TSP è un problema **NP-hard**, il che significa che non esiste un algoritmo noto in grado di trovare la soluzione ottimale in tempo polinomiale. La sua complessità aumenta con il numero di clienti e le limitazioni del drone (autonomia, tempo di lancio/recupero).\n",
    "\n",
    "I **metodi di risoluzione** possono essere:\n",
    "- Algortimi esatti, che garantiscono soluzione ottima ma per istanze piccole o medie.\n",
    "- Algoritmi euristici e meta-euristici. \n",
    "\n",
    "\n",
    "Vedremo di seguito la sua formulazione *esatta* del problema e presenteremo alcune istanze *benchmark* per la formulazione mostrata. "
   ]
  },
  {
   "cell_type": "markdown",
   "id": "5f50b680-b107-4e84-b099-d873530cd9e0",
   "metadata": {},
   "source": [
    "### Modellazione del problema"
   ]
  },
  {
   "cell_type": "markdown",
   "id": "7da4de93-39de-4900-9fbc-290437488faf",
   "metadata": {},
   "source": [
    "**Assunzioni**\n",
    "1. Ogni cliente deve essere servito o dal drone o dal camion esattamente una volta.\n",
    "2. Il drone e il camion partono e tornano a un deposito esattamente una volta.\n",
    "3. Il camion ha una capacità non limitata e si comporta come base mobile per il dorne.\n",
    "4. Il drone ha una durata limitata in termini di tempo di volo e può servire un cliente per volo.\n",
    "5. Ogni percorso del drone inizia dal magazzino o da un nodo cliente.\n",
    "6. Prima del lancio, il drone ha un tempo di *setup* (SL).\n",
    "7. Il secondo nodo di un percorso deve essere un cliente servito dal drone\n",
    "8. Il terzo nodo di un percorso deve essere o il deposito un un nodo cliente dove il drone torna al camion, senza che esso ri-visiti un nodo per recuperarlo.\n",
    "9. Il drone, ha un tempo di recupero quando torna al camion (SR).\n",
    "\n",
    "\n",
    "**Funzione obiettivo:** Minimizzare il tempo richiesto per servire ogni cliente e tornare al deposito.\n",
    "\n",
    "**Formulazione**\n",
    "- Il deposito è diviso nel nodo 's' come sorgente e 't' come destinazione.\n",
    "- $G(V,A)$ è il grafo direzionato completo, dove $V=C \\  \\cup \\  {s,t} $ e A l'insieme di archi.\n",
    "- $\\forall(i,j) \\ \\in \\ A, t_{ij} $ è il tempo di navigazione del camion e $d_{ij}$ è il tempo di navigazione del drone.\n",
    "- *SL* e *SR* sono rispettivamente i tempi di lancio e i tempi di recupero del drone.\n",
    "- *Dtl* è il tempo limite del drone.\n",
    "\n",
    "**Variabili di decisione**\n",
    "\n",
    "*Binarie*\n",
    "- $(i,j) \\in A \\quad y_{ij} = 1 $  se l'arco (i,j) è attraversato dal camion.\n",
    "- $(i,j) \\in A \\quad h \\in C \\quad y_{ij}^h = 1 $ se l'arco (i,j) è attraversato dal camion mentre il drone serve il nodo h.\n",
    "- $h \\in C \\quad \\theta^h = 1 $ se il cliente h è servito dal drone.\n",
    "- $i \\in V \\quad h \\in C \\quad  \\omega_i^h=1$  se i è il nodo orgine del percorso che serve il nodo h.\n",
    "- $i \\in V \\quad h \\in C \\quad  \\delta_i^h=1$ e i è il nodo destinazione del percorso che serve il nodo h.\n",
    "\n",
    "*Continue*\n",
    "- $h \\in C \\quad \\sigma^h = 1 $ è il tempo che il camion aspetta il drone al nodo destinazione del suo percorso servendo il cliente h.\n",
    "\n",
    "\n",
    "**Funzione obiettivo**\n",
    "\n",
    "$$min \\quad \\sum_{(i,j) \\in A} t_{ij}y_{ij} + \\sum_{h \\in C} (SL + SR) \\ \\theta^h - \\sum_{h \\in C} SL\\ \\omega_s^h + \\sum_{h\\in C} \\sigma^h$$\n",
    "\n",
    "\n",
    "\n",
    "- Il primo termine rappresenta la lunghezza del percorso del camion.\n",
    "- Il secondo e il terzo termine rappresentano il tempo di lancio e di recovery del drone.\n",
    "- L'ultimo termine rappresenta il tempo di attesa del camion\n",
    "\n",
    "\n",
    "**Vincoli**\n",
    "\n",
    "*Vincoli di instradamento del camion.*\n",
    "- $\\sum\\limits_{j: (s,j) \\in A} y_{sj} = \\sum\\limits_{i: (i,t) \\in A} y_{it} = 1 \\quad$\\\n",
    "  *Un arco in uscita dalla sorgente e uno in ingresso per la destinazione.*\n",
    "- $\\sum\\limits_{j: (i,j) \\in A} y_{ij} = \\sum\\limits_{j: (j,i) \\in A} y_{ji} \\leq 1 \\quad i \\in V \\quad$\\\n",
    "  *Un arco in uscita e un arco in ingresso se il nodo è vistato dal camion.*\n",
    "- $\\sum\\limits_{(i,j) \\in S | (i,j) \\in A} y_{ij} \\leq \\sum\\limits_{h \\in S \\backslash \\{q\\}} (1- \\theta^h) \\quad S \\subseteq V, q \\in S \\quad$\\\n",
    "  *Vincolo eliminazione sottogiri.*\n",
    "\n",
    "*Vincoli del percorso del camion.*\n",
    "-  $\\sum\\limits_{j: (i,j) \\in A} y_{ij}^h = \\sum\\limits_{j: (j,i) \\in A} y_{ji}^h = \\omega_i^h - \\delta_i^h \\quad i \\in V \\quad h \\in C \\quad$\\\n",
    "  *Per ogni percorso senza drone, è un path dal nodo di lancio al nodo di arrivo.* \n",
    "\n",
    "*Vincoli di singola assegnazione.*\n",
    "- $y_{ij} + \\omega_{i}^j + \\delta_{i}^j \\leq 1 \\quad (i,j) \\in A \\quad$\\\n",
    "  *Se (i,j) è percorsa dal camion allora il drone non può andare da i a j o da j a i.*\n",
    "- $\\sum\\limits_{j: (h,j) \\in A} y_{hj} + \\theta^h = 1 \\quad h \\in C \\quad$\\\n",
    "  *Ogni cliente deve essere servito o dal drone o dal camion.*\n",
    "\n",
    "*Vincoli di consistenza*\n",
    "- $\\sum\\limits_{h \\in C} y_{ij}^h \\leq y_{ij} \\quad (i,j) \\in A \\quad$\\\n",
    "  *Il percorso del camion mentre il drone serve un cliente, deve essere un subpath.*\n",
    "- $\\sum\\limits_{i \\in V \\backslash \\{t,h\\}} \\omega_{i}^h = \\sum\\limits_{j \\in V \\backslash \\{s,h\\}} \\delta_{j}^h = \\theta^h \\quad h \\in C \\quad$\\\n",
    "  *Se h è servito dal drone, allora il percorso deve avere una sorgente e una destinazione.*\n",
    "- $\\sum\\limits_{h \\in C \\backslash \\{i\\}} \\omega_{i}^h + \\theta^i \\leq 1 \\quad i \\in C \\quad$\\\n",
    "  *Se i è il punto di lancio, allora non può essere servito dal drone.*\n",
    "- $\\sum\\limits_{h \\in C \\backslash \\{j\\}} \\delta_{j}^h + \\theta^j \\leq 1 \\quad j \\in C \\quad$\\\n",
    "  *Se j è il punto di destinazione, allora non può essere servito dal drone.*\n",
    "\n",
    "*Vincoli di endurance del drone*\n",
    "- $\\sum_\\limits{(i,j) \\in A} t_{ij} \\  y_{ij}^h \\leq (Dtl - SR) \\theta^h \\quad h \\in C \\quad$\\\n",
    "  *La durata del percorso del camion non può eccedere l'endurance del drone.*\n",
    "- $\\sum_\\limits{i \\in V \\backslash \\{t\\}} d_{ih} \\  \\omega{i}^h  + \\sum_\\limits{j \\in V \\backslash \\{s\\}} d_{hj} \\ \\delta{j}^h  \\leq (Dtl - SR)\\  \\theta^h \\quad h \\in C \\quad$\\\n",
    "  *La durata del percorso del drone non può eccedere la sua endurance.*\n",
    "\n",
    "*Vincoli di attesa.*\n",
    "- $\\sum\\limits_{i \\in V \\backslash \\{t\\}} d_{ih} \\  \\omega_{i}^h  + \\sum\\limits_{j \\in V \\backslash \\{s\\}} d_{hj} \\  \\delta_{j}^h -  \\sum_{(i,j) \\in A} t_{ij} y_{ij}^h \\leq \\sigma^h \\quad h \\in C \\quad$\\\n",
    "\n",
    "*Il tempo di attesa del camion è dato dalla differenza dalla durata del percorso del drone e della durata del percorso del camion, se quest'ultima è maggiore di 0.* "
   ]
  },
  {
   "cell_type": "markdown",
   "id": "39e8473e-1850-4c42-a809-e1cef04e6e0f",
   "metadata": {},
   "source": [
    "### Implementazione"
   ]
  },
  {
   "cell_type": "markdown",
   "id": "f169c1e6-5c6b-40e3-a208-2d60383d14d5",
   "metadata": {},
   "source": [
    "#### Estrazione dei dati"
   ]
  },
  {
   "cell_type": "code",
   "execution_count": 6,
   "id": "fb4650a9-8efa-496d-8ab4-ef42f79cbd98",
   "metadata": {},
   "outputs": [],
   "source": [
    "\"\"\"\n",
    "Estrazione dati da file...\n",
    "\"\"\"\n",
    "\n",
    "customers = ['c1', 'c2', 'c3']  # Set of customers C\n",
    "nodes = ['s', 'c1', 'c2', 'c3', 't']  # Set of all nodes V\n",
    "arcs = {('s', 'c1'), ('s', 'c2'), ('c1', 'c3'), ('c2', 'c3'), ('c3', 'c1'), ('c2', 't'), ('c3', 't')}  # Example arcs A\n",
    "truck_travel_time = {  # Example tij\n",
    "    ('s', 'c1'): 5, ('s', 'c2'): 12, ('c2', 'c3'): 10, ('c1', 'c3'): 8, ('c3', 'c1'):8,\n",
    "    ('c2', 't'): 15, ('c3', 't'): 11\n",
    "} \n",
    "drone_travel_time = {  # Example dij (replace with actual values)\n",
    "    ('s', 'c1'): 5, ('s', 'c2'): 6,  ('c2', 'c3'): 3, ('c1', 'c3'): 4, ('c3', 'c1'):4,\n",
    "    ('c2', 't'): 7, ('c3', 't'): 6\n",
    "}\n",
    "\n",
    "drone_launch_time = 2  # Example SL\n",
    "drone_recovery_time = 2  # Example SR\n",
    "drone_time_limit = 15  # Example Dtl\n"
   ]
  },
  {
   "cell_type": "markdown",
   "id": "1dc3659d-7064-48b1-8bc4-5172d9034a38",
   "metadata": {},
   "source": [
    "#### Variabili di decisione"
   ]
  },
  {
   "cell_type": "code",
   "execution_count": 7,
   "id": "d7b895df-a346-4780-a24b-6287c2332ed9",
   "metadata": {},
   "outputs": [],
   "source": [
    "import gurobipy as gp\n",
    "# Create a Gurobi Model\n",
    "model = gp.Model(\"Drone-Assisted Vehicle Routing\")\n",
    "\n",
    "# (i,j) ∈ A:  Truck path (1 if the truck travels on arc (i,j), 0 otherwise)\n",
    "y = {}\n",
    "for (i,j) in arcs:\n",
    "    y[i, j] = model.addVar(vtype=gp.GRB.BINARY, name=f\"y_{i}_{j}\")\n",
    "\n",
    "# (i,j) ∈ A, h ∈ C: Drone use (1 if drone serves customer h while truck traverses (i,j))\n",
    "y_prime = {}\n",
    "for i, j in arcs:\n",
    "    for h in customers:\n",
    "        y_prime[i, j, h] = model.addVar(vtype=gp.GRB.BINARY, name=f\"y_prime_{i}_{j}_{h}\")\n",
    "\n",
    "# h ∈ C: Drone service (1 if customer h is served by the drone, 0 otherwise)\n",
    "theta = {}\n",
    "for h in customers:\n",
    "    theta[h] = model.addVar(vtype=gp.GRB.BINARY, name=f\"theta_{h}\")\n",
    "\n",
    "# i ∈ V, h ∈ C: Origin of drone sortie (1 if node i is the origin for serving customer h)\n",
    "omega = {}\n",
    "for i in nodes:\n",
    "    for h in customers:\n",
    "        omega[i, h] = model.addVar(vtype=gp.GRB.BINARY, name=f\"omega_{i}_{h}\")\n",
    "\n",
    "# i ∈ V, h ∈ C: Destination of drone sortie (1 if node i is the destination for serving h)\n",
    "delta = {}\n",
    "for i in nodes:\n",
    "    for h in customers:\n",
    "        delta[i, h] = model.addVar(vtype=gp.GRB.BINARY, name=f\"delta_{i}_{h}\")\n",
    "\n",
    "# 2. Continuous Variables\n",
    "\n",
    "# h ∈ C: Waiting time of the truck at the destination of the sortie serving customer h\n",
    "sigma = {}\n",
    "for h in customers:\n",
    "    sigma[h] = model.addVar(vtype=gp.GRB.CONTINUOUS, name=f\"sigma_{h}\")\n"
   ]
  },
  {
   "cell_type": "markdown",
   "id": "70169db8-eb73-4950-aa2d-9f8ffa19b5fb",
   "metadata": {},
   "source": [
    "#### Funzione obiettivo."
   ]
  },
  {
   "cell_type": "code",
   "execution_count": 8,
   "id": "fae1cf31-8932-40f9-a010-c32587c25d41",
   "metadata": {},
   "outputs": [],
   "source": [
    "objective = (\n",
    "    gp.quicksum(truck_travel_time[i, j] * y[i, j] for (i,j) in arcs) +  # Truck route length\n",
    "    gp.quicksum((drone_launch_time + drone_recovery_time) * theta[h] for h in customers) -  # Launch & recovery\n",
    "    gp.quicksum(drone_launch_time * omega['s', h] for h in customers) + # Launch at depot\n",
    "    gp.quicksum(sigma[h] for h in customers)  # Waiting time\n",
    ")\n",
    "\n",
    "model.setObjective(objective, gp.GRB.MINIMIZE)"
   ]
  },
  {
   "cell_type": "markdown",
   "id": "bc30d181-907a-4842-adcb-86c5b0453ebe",
   "metadata": {},
   "source": [
    "#### Vincoli di instradamento del camion. "
   ]
  },
  {
   "cell_type": "code",
   "execution_count": 9,
   "id": "4a01cb7e-1a23-4d51-8973-75b8126d73b8",
   "metadata": {},
   "outputs": [],
   "source": [
    "# One outgoing arc from the origin, one incoming arc to the destination\n",
    "model.addConstr(gp.quicksum(y['s', j] for j in nodes if ('s', j) in arcs) == 1)\n",
    "model.addConstr(gp.quicksum(y[i, 't'] for i in nodes if (i, 't') in arcs) == gp.quicksum(y['s', j] for j in nodes if ('s', j) in arcs))\n",
    "\n",
    "\n",
    "\n",
    "# Flow conservation for other nodes visited by the truck\n",
    "for i in customers:\n",
    "        model.addConstr(gp.quicksum(y[j, i] for j in nodes if (j, i) in arcs) == gp.quicksum(y[i, j] for j in nodes if (i, j) in arcs) )\n",
    "        model.addConstr(gp.quicksum(y[i, j] for j in nodes if (i, j) in arcs)<= 1)\n",
    "\n",
    "\n",
    "\n",
    "\n",
    "# Subtour elimination constraints (preventing cycles), \n",
    "for i in nodes:\n",
    "    for j in nodes:\n",
    "        if i != j and (i, j) in arcs:\n",
    "            model.addConstr(\n",
    "                gp.quicksum(y[i, k] for k in nodes if (i, k) in arcs) <= \n",
    "                gp.quicksum((1 - theta[h]) for h in customers if (i, j) in arcs)\n",
    "            )"
   ]
  },
  {
   "cell_type": "markdown",
   "id": "37bd4933-2bb9-4903-99bf-c46a73056174",
   "metadata": {},
   "source": [
    "#### Vincoli sul percorso del camion."
   ]
  },
  {
   "cell_type": "code",
   "execution_count": 10,
   "id": "3da63ca2-f72b-4138-988f-475c6007472a",
   "metadata": {},
   "outputs": [],
   "source": [
    "for i in nodes:\n",
    "    for h in customers:\n",
    "        model.addConstr(\n",
    "            gp.quicksum(y_prime[i, j, h] for j in nodes if (i, j) in arcs) -\n",
    "            gp.quicksum(y_prime[j, i, h] for j in nodes if (j, i) in arcs) == \n",
    "            omega[i, h] - delta[i, h] \n",
    "        )"
   ]
  },
  {
   "cell_type": "markdown",
   "id": "b5d4c4f0-8fc8-4fc5-ad43-d70a34689726",
   "metadata": {},
   "source": [
    "#### Vincoli di assegnamento singolo. "
   ]
  },
  {
   "cell_type": "code",
   "execution_count": 11,
   "id": "043f2241-daeb-43d3-8255-ade79268fd19",
   "metadata": {},
   "outputs": [],
   "source": [
    "# 3. Single Assignment Constraints\n",
    "# --------------------------------\n",
    "\n",
    "# Drone can't fly from i if (i, j) is crossed by the truck\n",
    "for i, j in arcs:\n",
    "    if j in customers:\n",
    "        model.addConstr(y[i, j] + omega[i, j] + delta[i, j] <= 1)\n",
    "\n",
    "\n",
    "\n",
    "# Each client must be served either by the truck or the drone\n",
    "for h in customers:\n",
    "    model.addConstr(\n",
    "        gp.quicksum(y[h,j] for j in nodes if (h, j) in arcs) + theta[h] == 1\n",
    "    )\n"
   ]
  },
  {
   "cell_type": "markdown",
   "id": "328d4c26-2808-4c39-9086-3f54f429034c",
   "metadata": {},
   "source": [
    "#### Vincoli di consistenza."
   ]
  },
  {
   "cell_type": "code",
   "execution_count": 12,
   "id": "a3987106-6e4f-45a7-8f02-b73e9cb9c1a6",
   "metadata": {},
   "outputs": [],
   "source": [
    "\n",
    "# The truck path during a drone sortie must be a subpath or the origin-destination path\n",
    "for (i,j) in arcs:\n",
    "    model.addConstr(gp.quicksum(y_prime[i, j, h] for h in customers) <= y[i, j])\n",
    "\n",
    "\n",
    "\n",
    "# If h is served by the drone, the corresponding sortie must have a launch and a recovery node\n",
    "for h in customers:\n",
    "    model.addConstr(gp.quicksum(omega[i, h] for i in nodes if (i, h) in omega and i!='t' and i!=h) == \n",
    "                    gp.quicksum(delta[j, h] for j in nodes if (j, h) in delta if j!= 's' and j!=h))\n",
    "    \n",
    "    model.addConstr(gp.quicksum(omega[i, h] for i in nodes if (i, h) in omega and i!='t' and i!=h) == theta[h])\n",
    "\n",
    "\n",
    "\n",
    "\n",
    "\n",
    "# If i is the launch node of a sortie, it can't be served by the drone\n",
    "for i in customers: \n",
    "    model.addConstr(gp.quicksum(omega[i, h] for h in customers if (i, h) in omega and h!=i) + theta[i] <= 1)\n",
    "\n",
    "\n",
    "\n",
    "\n",
    "# If j is the recovery node of a sortie, it can't be served by the drone\n",
    "for j in customers:\n",
    "    model.addConstr(gp.quicksum(delta[j, h] for h in customers if (j, h) in delta and h!=j) + theta[j] <= 1)\n"
   ]
  },
  {
   "cell_type": "markdown",
   "id": "817c8673-4223-4994-a455-12e24da5110b",
   "metadata": {},
   "source": [
    "#### Vincoli di endurance del drone. "
   ]
  },
  {
   "cell_type": "code",
   "execution_count": 13,
   "id": "9b92179b-a8ad-4069-9d94-126671d70b22",
   "metadata": {},
   "outputs": [],
   "source": [
    "\n",
    "# The duration of the truck path of a sortie can't exceed the drone endurance\n",
    "for h in customers:\n",
    "    model.addConstr(gp.quicksum(truck_travel_time[i, j] * y_prime[i, j, h] for (i,j) in arcs) <= \n",
    "                    (drone_time_limit - drone_recovery_time) * theta[h])\n",
    "\n",
    "\n",
    "\n",
    "# The duration of a drone sortie can't exceed the drone endurance\n",
    "for h in customers:\n",
    "    model.addConstr(\n",
    "        gp.quicksum(drone_travel_time[i, h] * omega[i, h] for i in nodes if (i, h) in drone_travel_time and i!='t') +\n",
    "        \n",
    "        gp.quicksum(drone_travel_time[h, j] * delta[j, h] for j in nodes if (h, j) in drone_travel_time and j!='s') <= \n",
    "        \n",
    "        (drone_time_limit - drone_recovery_time) * theta[h]\n",
    "    )\n"
   ]
  },
  {
   "cell_type": "markdown",
   "id": "67744b30-72bd-478a-bfc6-7dbcb95d8a5e",
   "metadata": {},
   "source": [
    "#### Vincoli di attesa."
   ]
  },
  {
   "cell_type": "code",
   "execution_count": 14,
   "id": "b7c6ce60-329f-4c9a-b74b-e98d738749d3",
   "metadata": {},
   "outputs": [],
   "source": [
    "# The truck waiting time of a sortie is given by the difference between the duration of the drone path \n",
    "# and the duration of the truck path, if it is greater than 0\n",
    "for h in customers:\n",
    "    model.addConstr(\n",
    "        gp.quicksum(drone_travel_time[i, h] * omega[i, h] for i in nodes if (i, h) in drone_travel_time and i!='t') +\n",
    "        gp.quicksum(drone_travel_time[h, j] * delta[j, h] for j in nodes if (h, j) in drone_travel_time and j!='s') -\n",
    "        gp.quicksum(truck_travel_time[i, j] * y_prime[i, j, h] for (i, j) in arcs) <=\n",
    "        sigma[h]\n",
    "    )\n"
   ]
  },
  {
   "cell_type": "markdown",
   "id": "4c570ed7-63cb-46f4-9c2a-c1ea3bd24579",
   "metadata": {},
   "source": [
    "### Ottimizzazione e stampa della soluzione."
   ]
  },
  {
   "cell_type": "code",
   "execution_count": 15,
   "id": "6127f41e-80b6-438d-921b-ac7017025a57",
   "metadata": {},
   "outputs": [
    {
     "name": "stdout",
     "output_type": "stream",
     "text": [
      "Gurobi Optimizer version 11.0.1 build v11.0.1rc0 (win64 - Windows 11.0 (22631.2))\n",
      "\n",
      "CPU model: AMD Ryzen 7 7735U with Radeon Graphics, instruction set [SSE2|AVX|AVX2]\n",
      "Thread count: 8 physical cores, 16 logical processors, using up to 16 threads\n",
      "\n",
      "Optimize a model with 66 rows, 64 columns and 297 nonzeros\n",
      "Model fingerprint: 0xeeb0a2ef\n",
      "Variable types: 3 continuous, 61 integer (61 binary)\n",
      "Coefficient statistics:\n",
      "  Matrix range     [1e+00, 2e+01]\n",
      "  Objective range  [1e+00, 2e+01]\n",
      "  Bounds range     [1e+00, 1e+00]\n",
      "  RHS range        [1e+00, 3e+00]\n",
      "Found heuristic solution: objective 37.0000000\n",
      "Presolve removed 53 rows and 52 columns\n",
      "Presolve time: 0.02s\n",
      "Presolved: 13 rows, 12 columns, 47 nonzeros\n",
      "Found heuristic solution: objective 35.0000000\n",
      "Variable types: 0 continuous, 12 integer (11 binary)\n",
      "\n",
      "Root relaxation: objective 2.600000e+01, 4 iterations, 0.00 seconds (0.00 work units)\n",
      "\n",
      "    Nodes    |    Current Node    |     Objective Bounds      |     Work\n",
      " Expl Unexpl |  Obj  Depth IntInf | Incumbent    BestBd   Gap | It/Node Time\n",
      "\n",
      "     0     0   26.00000    0    4   35.00000   26.00000  25.7%     -    0s\n",
      "H    0     0                      27.0000000   26.00000  3.70%     -    0s\n",
      "H    0     0                      26.0000000   26.00000  0.00%     -    0s\n",
      "     0     0   26.00000    0    4   26.00000   26.00000  0.00%     -    0s\n",
      "\n",
      "Explored 1 nodes (4 simplex iterations) in 0.06 seconds (0.00 work units)\n",
      "Thread count was 16 (of 16 available processors)\n",
      "\n",
      "Solution count 4: 26 27 35 37 \n",
      "\n",
      "Optimal solution found (tolerance 1.00e-04)\n",
      "Best objective 2.600000000000e+01, best bound 2.600000000000e+01, gap 0.0000%\n",
      "Path Camion: \n",
      "(c1,c3)\n",
      "(c3,t)\n",
      "(s,c1)\n",
      "Path Drone:\n",
      "('s', 'c2')\n",
      "('c3', 'c2')\n",
      "('s', 'c2')\n",
      "('c3', 'c2')\n"
     ]
    }
   ],
   "source": [
    "\n",
    "model.optimize()\n",
    "\n",
    "truckSOL = []\n",
    "droneSOL= []\n",
    "\n",
    "print(\"Path Camion: \")\n",
    "for (i,j) in arcs:\n",
    "    if y[i,j].X > 0.5:\n",
    "        print(\"(\"+str(i)+\",\"+str(j)+\")\")\n",
    "        truckSOL.append((i,j))\n",
    "        \n",
    "\n",
    "print(\"Path Drone:\")\n",
    "for (i,j) in arcs:\n",
    "    for h in customers:\n",
    "        \n",
    "            if omega[i,h].X > 0.5:\n",
    "                print((i,h))\n",
    "                \n",
    "            if delta[j,h].X > 0.5:\n",
    "                print((j,h))\n",
    "\n",
    "        \n",
    "\n",
    "            if omega[i,h].X > 0.5:\n",
    "                if theta[h].X > 0.5:\n",
    "                    if (i,h) in arcs:\n",
    "                        droneSOL.append((i,h))\n",
    "        \n",
    "            if delta[j,h].X > 0.5:\n",
    "                    droneSOL.append((h,j))"
   ]
  },
  {
   "cell_type": "markdown",
   "id": "3c767181-896d-4c61-9749-52713d187881",
   "metadata": {},
   "source": [
    "### Disegno del grafo "
   ]
  },
  {
   "cell_type": "code",
   "execution_count": 18,
   "id": "b11cc0a6-3204-40ea-9612-9360ebe4deff",
   "metadata": {},
   "outputs": [
    {
     "data": {
      "image/png": "[encoded data removed]",
      "text/plain": [
       "<Figure size 1000x500 with 1 Axes>"
      ]
     },
     "metadata": {},
     "output_type": "display_data"
    }
   ],
   "source": [
    "import networkx as nx #uso networkx e pyplot di matplotlib\n",
    "import matplotlib.pyplot as plt\n",
    "\n",
    "\n",
    "#Genero etichette di label \n",
    "\n",
    "labels = {}\n",
    "\n",
    "for (i,j) in arcs:\n",
    "    labels[(i,j)] = (truck_travel_time[i,j], drone_travel_time[(i,j)])\n",
    "\n",
    "posofnodes = {}\n",
    "\n",
    "posofnodes['s'] = (1,5)\n",
    "posofnodes['c1'] = (2,3)\n",
    "posofnodes['c2'] = (4,3)\n",
    "posofnodes['c3'] = (7,5)\n",
    "posofnodes['t'] = (9,10)\n",
    "\n",
    "\n",
    "\n",
    "#Come disegno un grafo?\n",
    "G = nx.DiGraph() #grafo orientato, se volessi non orientato è Graph\n",
    "\n",
    "# aggiunge i nodi\n",
    "G.add_nodes_from(nodes) #add_nodes_from mi permette di aggiunegre una lista di nodi, tramite nodes\n",
    "\n",
    "# aggiunge gli archi\n",
    "G.add_edges_from(arcs) #stesso per add_edges_from con gli archi e i valori\n",
    "\n",
    "# disegna il grafo\n",
    "plt.figure(figsize=(10,5)) #serve per plottare il rettangolo \n",
    "\n",
    "nx.draw(G, posofnodes, with_labels=True, node_size=700) #per plottare il grafo, nx.draw con Grafo, posizione dei nodi, se con label (del nodo) o meno \n",
    "# e la grandezza dei nodi\n",
    "\n",
    "nx.draw_networkx_edge_labels(G, posofnodes, edge_labels=labels, label_pos=0.5) #se voglio anche i costi allora uso questa funzione, \n",
    "# i costi dati dagli archi e la posizione delle label. \n",
    "\n",
    "plt.draw() #plot del draw. \n",
    "\n",
    "\n",
    "nx.draw_networkx_edges(G, posofnodes, edgelist=truckSOL, width=5, alpha=0.5, edge_color=\"tab:green\")\n",
    "nx.draw_networkx_edges(G, posofnodes, edgelist=droneSOL, width=5, alpha=0.5, edge_color=\"tab:blue\")\n",
    "plt.draw()\n"
   ]
  },
  {
   "cell_type": "code",
   "execution_count": null,
   "id": "8c87aafa-c582-4ac5-8653-9adbb072d36d",
   "metadata": {},
   "outputs": [],
   "source": []
  }
 ],
 "metadata": {
  "kernelspec": {
   "display_name": "Python 3 (ipykernel)",
   "language": "python",
   "name": "python3"
  },
  "language_info": {
   "codemirror_mode": {
    "name": "ipython",
    "version": 3
   },
   "file_extension": ".py",
   "mimetype": "text/x-python",
   "name": "python",
   "nbconvert_exporter": "python",
   "pygments_lexer": "ipython3",
   "version": "3.11.7"
  }
 },
 "nbformat": 4,
 "nbformat_minor": 5
}
